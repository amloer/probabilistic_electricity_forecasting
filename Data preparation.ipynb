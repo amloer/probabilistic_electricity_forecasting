{
 "cells": [
  {
   "cell_type": "markdown",
   "id": "01086249",
   "metadata": {},
   "source": [
    "# Dataset preparation\n"
   ]
  },
  {
   "cell_type": "markdown",
   "id": "21a035fb",
   "metadata": {},
   "source": [
    "### 1. Load libraries"
   ]
  },
  {
   "cell_type": "code",
   "execution_count": 2,
   "id": "3f85aef7",
   "metadata": {},
   "outputs": [],
   "source": [
    "import pandas as pd\n",
    "import numpy as np"
   ]
  },
  {
   "cell_type": "markdown",
   "id": "9c9f39b8",
   "metadata": {},
   "source": [
    "### 2. Prepare consumption data"
   ]
  },
  {
   "cell_type": "code",
   "execution_count": 3,
   "id": "a613047b",
   "metadata": {},
   "outputs": [],
   "source": [
    "# Load csv\n",
    "df = pd.read_csv(\"C:/Users/alexl/Desktop/MT/03_Data/raw/consumption/netzlastnachfrage.csv\", sep=\";\", decimal = ',')\n",
    "\n",
    "# Create date-time variable\n",
    "df['date'] = pd.date_range(start = '01/01/2018 00:00:00', periods = 104178, freq = '15T')"
   ]
  },
  {
   "cell_type": "code",
   "execution_count": 4,
   "id": "e563a2ad",
   "metadata": {},
   "outputs": [
    {
     "name": "stderr",
     "output_type": "stream",
     "text": [
      "C:\\ProgramData\\Anaconda3\\lib\\site-packages\\ipykernel_launcher.py:3: SettingWithCopyWarning: \n",
      "A value is trying to be set on a copy of a slice from a DataFrame.\n",
      "Try using .loc[row_indexer,col_indexer] = value instead\n",
      "\n",
      "See the caveats in the documentation: https://pandas.pydata.org/pandas-docs/stable/user_guide/indexing.html#returning-a-view-versus-a-copy\n",
      "  This is separate from the ipykernel package so we can avoid doing imports until\n"
     ]
    }
   ],
   "source": [
    "# Prepare data\n",
    "df_consumption = df[['Datum','Ist', 'date']]\n",
    "df_consumption['Ist'] = df_consumption['Ist'].astype(float)\n",
    "\n",
    "# subset to Januray 2018 - March 2019\n",
    "df_mask = (df_consumption['date'] < '2019/04/01') & (df_consumption['date']>='2018/01/01')\n",
    "df_consumption = df_consumption.loc[df_mask]\n",
    "\n",
    "df_consumption.set_index('date', inplace=True)\n",
    "df_consumption = df_consumption[['Ist']]\n",
    "df_consumption.rename(columns={\"Ist\": \"consumption\"}, inplace = True)"
   ]
  },
  {
   "cell_type": "code",
   "execution_count": 5,
   "id": "d8cb2eb7",
   "metadata": {},
   "outputs": [],
   "source": [
    "# turn consumption into MWh\n",
    "df_consumption['consumption'] = df_consumption['consumption']/1000"
   ]
  },
  {
   "cell_type": "code",
   "execution_count": 6,
   "id": "c3a00e7d",
   "metadata": {},
   "outputs": [],
   "source": [
    "df_consumption[df_consumption['consumption'] < 10] = np.nan\n",
    "df_consumption.fillna( method = 'ffill', inplace = True)"
   ]
  },
  {
   "cell_type": "markdown",
   "id": "03ea136d",
   "metadata": {},
   "source": [
    "#### Save consumption dataset to csv"
   ]
  },
  {
   "cell_type": "code",
   "execution_count": 7,
   "id": "d3e9e57c",
   "metadata": {},
   "outputs": [],
   "source": [
    "df_consumption.to_csv('C:/Users/alexl/Desktop/MT/03_Data/prepared/consumption_prepared.csv')"
   ]
  },
  {
   "cell_type": "markdown",
   "id": "07e45b82",
   "metadata": {},
   "source": [
    "### 3. Weather data\n",
    "\n",
    "Naming of relevant data columns:\n",
    "- FM = daily average wind speed (km/h)\n",
    "- NM = daily average cloud cover (%)\n",
    "- TMK = daily average temperature (°C)"
   ]
  },
  {
   "cell_type": "code",
   "execution_count": 8,
   "id": "2097991d",
   "metadata": {},
   "outputs": [],
   "source": [
    "#Import raw datasets\n",
    "df_weather_saarbrucken = pd.read_csv('C:/Users/alexl/Desktop/MT/03_Data/raw/weather/daily_weather_saarbrücken.csv', sep=\";\", decimal = '.')\n",
    "df_weather_trier = pd.read_csv('C:/Users/alexl/Desktop/MT/03_Data/raw/weather/daily_weather_trier.csv', sep=\",\", decimal = '.')\n",
    "df_weather_dusseldorf = pd.read_csv('C:/Users/alexl/Desktop/MT/03_Data/raw/weather/daily_weather_dus.csv', sep=\",\", decimal = '.')"
   ]
  },
  {
   "cell_type": "code",
   "execution_count": 9,
   "id": "cbda4582",
   "metadata": {},
   "outputs": [],
   "source": [
    "# Change column names\n",
    "df_weather_trier = df_weather_trier[['MESS_DATUM', '  FM', '  NM', ' TMK']]\n",
    "df_weather_trier[df_weather_trier < 0] = np.nan # mark missing values as Nan\n",
    "df_weather_trier = df_weather_trier.iloc[28000:, :]\n",
    "\n",
    "df_weather_dusseldorf = df_weather_dusseldorf[['MESS_DATUM', '  FM', '  NM', ' TMK']]\n",
    "df_weather_dusseldorf[df_weather_dusseldorf < 0] = np.nan # mark missing values as Nan\n",
    "\n",
    "df_weather_saarbrucken = df_weather_saarbrucken[['MESS_DATUM', '  FM', '  NM', ' TMK']]\n",
    "df_weather_saarbrucken[df_weather_saarbrucken < 0] = np.nan # mark missing values as Nan"
   ]
  },
  {
   "cell_type": "code",
   "execution_count": 10,
   "id": "ddbadfdb",
   "metadata": {},
   "outputs": [],
   "source": [
    "# Compute date-time information/subset to relevant time frame\n",
    "\n",
    "# weather trier\n",
    "df_weather_dusseldorf['date'] = pd.date_range(start = '01/01/1952', periods = 24837, freq = 'D')\n",
    "df_mask = (df_weather_dusseldorf['date'] > '2017/12/30') & (df_weather_dusseldorf['date'] < '2019/04/01')\n",
    "df_weather_dusseldorf = df_weather_dusseldorf.loc[df_mask]\n",
    "df_weather_dusseldorf.set_index('date', inplace=True)\n",
    "df_weather_dusseldorf.columns = ['date_old', 'wind', 'cloud', 'temp']\n",
    "df_weather_dusseldorf = df_weather_dusseldorf[['temp', 'wind', 'cloud']]\n",
    "df_weather_dusseldorf.fillna( method = 'ffill', inplace = True)\n",
    "\n",
    "# weather trier\n",
    "df_weather_trier['date'] = pd.date_range(start = '08/30/2017', periods = 854, freq = 'D')\n",
    "df_mask = (df_weather_trier['date']>'2017/12/30') & (df_weather_trier['date'] < '2019/04/01')\n",
    "df_weather_trier = df_weather_trier.loc[df_mask]\n",
    "df_weather_trier.set_index('date', inplace=True)\n",
    "df_weather_trier.columns = ['date_old', 'wind', 'cloud', 'temp']\n",
    "df_weather_trier = df_weather_trier[['temp', 'wind', 'cloud']]\n",
    "df_weather_trier.fillna( method = 'ffill', inplace = True)\n",
    "\n",
    "\n",
    "# Weather saarbrucken\n",
    "df_weather_saarbrucken['date'] = pd.date_range(start = '01/01/1951', periods = 25202, freq = 'D')\n",
    "df_mask = (df_weather_saarbrucken['date']>'2017/12/30') & (df_weather_saarbrucken['date'] < '2019/04/01')\n",
    "df_weather_saarbrucken = df_weather_saarbrucken.loc[df_mask]\n",
    "df_weather_saarbrucken.set_index('date', inplace=True)\n",
    "df_weather_saarbrucken.columns = ['date_old', 'wind', 'cloud', 'temp']\n",
    "df_weather_saarbrucken = df_weather_saarbrucken[['temp', 'wind', 'cloud']]\n",
    "df_weather_saarbrucken.fillna( method = 'ffill', inplace = True)"
   ]
  },
  {
   "cell_type": "markdown",
   "id": "9f4d9477",
   "metadata": {},
   "source": [
    "### 4. Combine datasets to average"
   ]
  },
  {
   "cell_type": "code",
   "execution_count": 11,
   "id": "af78f9e8",
   "metadata": {},
   "outputs": [],
   "source": [
    "# Combine all weather records into one dataframe\n",
    "daily_weather_avg = pd.DataFrame()\n",
    "\n",
    "daily_weather_avg['temp'] = (df_weather_dusseldorf['temp']+df_weather_trier['temp']+df_weather_saarbrucken['temp'])/3\n",
    "daily_weather_avg['wind'] = (df_weather_dusseldorf['wind']+df_weather_trier['wind']+df_weather_saarbrucken['wind'])/3\n",
    "daily_weather_avg['cloud'] = (df_weather_dusseldorf['cloud']+df_weather_trier['cloud']+df_weather_saarbrucken['cloud'])/3"
   ]
  },
  {
   "cell_type": "code",
   "execution_count": 12,
   "id": "42c7a8c5",
   "metadata": {},
   "outputs": [],
   "source": [
    "# Transform cloud into % (currently in x/8)\n",
    "daily_weather_avg['cloud'] = daily_weather_avg['cloud']/8"
   ]
  },
  {
   "cell_type": "markdown",
   "id": "03176b75",
   "metadata": {},
   "source": [
    "### 5. Save combined dataset to csv"
   ]
  },
  {
   "cell_type": "code",
   "execution_count": 13,
   "id": "b01300fa",
   "metadata": {},
   "outputs": [],
   "source": [
    "daily_weather_avg.to_csv('C:/Users/alexl/Desktop/MT/03_Data/prepared/daily_weather_avg.csv')"
   ]
  }
 ],
 "metadata": {
  "kernelspec": {
   "display_name": "Python 3",
   "language": "python",
   "name": "python3"
  },
  "language_info": {
   "codemirror_mode": {
    "name": "ipython",
    "version": 3
   },
   "file_extension": ".py",
   "mimetype": "text/x-python",
   "name": "python",
   "nbconvert_exporter": "python",
   "pygments_lexer": "ipython3",
   "version": "3.7.6"
  }
 },
 "nbformat": 4,
 "nbformat_minor": 5
}
